{
 "cells": [
  {
   "cell_type": "code",
   "execution_count": 1,
   "metadata": {
    "collapsed": true
   },
   "outputs": [],
   "source": [
    "import pandas as pd\n",
    "import numpy as np\n",
    "doc=pd.read_csv(\"(A)TRAIN_info_SMS.csv\", encoding = \"ISO-8859-1\")\n"
   ]
  },
  {
   "cell_type": "code",
   "execution_count": 2,
   "metadata": {
    "collapsed": true
   },
   "outputs": [],
   "source": [
    "msg=doc[\"Message\"].values"
   ]
  },
  {
   "cell_type": "code",
   "execution_count": 3,
   "metadata": {},
   "outputs": [
    {
     "data": {
      "text/plain": [
       "array(['Appointment', 'Bus', 'Cab', 'Delivery', 'Expiry', 'Flight',\n",
       "       'Hotel', 'Movie', 'Payment', 'PickUp', 'Reservation', 'Train'],\n",
       "      dtype=object)"
      ]
     },
     "execution_count": 3,
     "metadata": {},
     "output_type": "execute_result"
    }
   ],
   "source": [
    "np.unique(doc['Label'].values)"
   ]
  },
  {
   "cell_type": "code",
   "execution_count": 4,
   "metadata": {
    "collapsed": true
   },
   "outputs": [],
   "source": [
    "labels =[]\n",
    "\n",
    "for x in doc['Label'].values:\n",
    "    if x=='Appointment':\n",
    "        labels.append(0)\n",
    "    if x=='Bus':\n",
    "        labels.append(1)\n",
    "    if x=='Cab':\n",
    "        labels.append(2)\n",
    "    if x=='Delivery':\n",
    "        labels.append(3)\n",
    "    if x=='Expiry':\n",
    "        labels.append(4)\n",
    "    if x=='Flight':\n",
    "        labels.append(5)\n",
    "    if x=='Hotel':\n",
    "        labels.append(6)\n",
    "    if x=='Movie':\n",
    "        labels.append(7)\n",
    "    if x=='Payment':\n",
    "        labels.append(8)\n",
    "    if x=='PickUp':\n",
    "        labels.append(9)\n",
    "    if x=='Reservation':\n",
    "        labels.append(10)\n",
    "    if x=='Train':\n",
    "        labels.append(11)\n",
    "    "
   ]
  },
  {
   "cell_type": "code",
   "execution_count": 6,
   "metadata": {
    "collapsed": true
   },
   "outputs": [],
   "source": [
    "from sklearn.model_selection import train_test_split\n",
    "X_train, X_test, y_train, y_test = train_test_split(msg, labels, test_size=0.25)\n"
   ]
  },
  {
   "cell_type": "code",
   "execution_count": 7,
   "metadata": {},
   "outputs": [],
   "source": [
    "from sklearn.feature_extraction.text import  CountVectorizer\n",
    "vect = CountVectorizer()\n",
    "\n",
    "X_train_dtm = vect.fit_transform(X_train)\n",
    "\n",
    "X_test_dtm = vect.transform(X_test)\n"
   ]
  },
  {
   "cell_type": "code",
   "execution_count": 8,
   "metadata": {},
   "outputs": [
    {
     "name": "stdout",
     "output_type": "stream",
     "text": [
      "CPU times: user 32 ms, sys: 12 ms, total: 44 ms\n",
      "Wall time: 44 ms\n"
     ]
    },
    {
     "data": {
      "text/plain": [
       "MultinomialNB(alpha=1.0, class_prior=None, fit_prior=True)"
      ]
     },
     "execution_count": 8,
     "metadata": {},
     "output_type": "execute_result"
    }
   ],
   "source": [
    "# 1. import\n",
    "from sklearn.naive_bayes import MultinomialNB\n",
    "\n",
    "# 2. instantiate a Multinomial Naive Bayes model\n",
    "nb = MultinomialNB()\n",
    "\n",
    "%time nb.fit(X_train_dtm, y_train)\n",
    "\n"
   ]
  },
  {
   "cell_type": "code",
   "execution_count": 9,
   "metadata": {},
   "outputs": [
    {
     "data": {
      "text/plain": [
       "1.0"
      ]
     },
     "execution_count": 9,
     "metadata": {},
     "output_type": "execute_result"
    }
   ],
   "source": [
    "y_pred_class = nb.predict(X_test_dtm)\n",
    "\n",
    "# calculate accuracy of class predictions\n",
    "from sklearn import metrics\n",
    "metrics.accuracy_score(y_test, y_pred_class)"
   ]
  },
  {
   "cell_type": "code",
   "execution_count": 10,
   "metadata": {},
   "outputs": [
    {
     "data": {
      "text/plain": [
       "array([[248,   0,   0,   0,   0,   0,   0,   0,   0,   0,   0,   0],\n",
       "       [  0, 258,   0,   0,   0,   0,   0,   0,   0,   0,   0,   0],\n",
       "       [  0,   0, 250,   0,   0,   0,   0,   0,   0,   0,   0,   0],\n",
       "       [  0,   0,   0, 248,   0,   0,   0,   0,   0,   0,   0,   0],\n",
       "       [  0,   0,   0,   0, 241,   0,   0,   0,   0,   0,   0,   0],\n",
       "       [  0,   0,   0,   0,   0, 255,   0,   0,   0,   0,   0,   0],\n",
       "       [  0,   0,   0,   0,   0,   0, 241,   0,   0,   0,   0,   0],\n",
       "       [  0,   0,   0,   0,   0,   0,   0, 239,   0,   0,   0,   0],\n",
       "       [  0,   0,   0,   0,   0,   0,   0,   0, 247,   0,   0,   0],\n",
       "       [  0,   0,   0,   0,   0,   0,   0,   0,   0, 259,   0,   0],\n",
       "       [  0,   0,   0,   0,   0,   0,   0,   0,   0,   0, 243,   0],\n",
       "       [  0,   0,   0,   0,   0,   0,   0,   0,   0,   0,   0, 271]])"
      ]
     },
     "execution_count": 10,
     "metadata": {},
     "output_type": "execute_result"
    }
   ],
   "source": [
    "# print the confusion matrix\n",
    "metrics.confusion_matrix(y_test, y_pred_class)\n"
   ]
  },
  {
   "cell_type": "markdown",
   "metadata": {},
   "source": [
    "## fine tuning"
   ]
  },
  {
   "cell_type": "code",
   "execution_count": 11,
   "metadata": {
    "collapsed": true
   },
   "outputs": [],
   "source": [
    "fine_vect = CountVectorizer(stop_words='english')\n",
    "\n",
    "fine_vect = CountVectorizer(ngram_range=(1, 2))\n",
    "\n",
    "# ignore terms that appear in more than 50% of the documents\n",
    "fine_vect = CountVectorizer(max_df=0.5)\n",
    "\n"
   ]
  },
  {
   "cell_type": "code",
   "execution_count": 12,
   "metadata": {
    "collapsed": true
   },
   "outputs": [],
   "source": [
    "fine_vect = CountVectorizer(min_df=2)"
   ]
  },
  {
   "cell_type": "code",
   "execution_count": 13,
   "metadata": {
    "collapsed": true
   },
   "outputs": [],
   "source": [
    "X_train_dtm2 = fine_vect.fit_transform(X_train)\n",
    "\n",
    "X_test_dtm2 = fine_vect.transform(X_test)"
   ]
  },
  {
   "cell_type": "code",
   "execution_count": 14,
   "metadata": {},
   "outputs": [
    {
     "name": "stdout",
     "output_type": "stream",
     "text": [
      "CPU times: user 16 ms, sys: 4 ms, total: 20 ms\n",
      "Wall time: 20.5 ms\n"
     ]
    },
    {
     "data": {
      "text/plain": [
       "MultinomialNB(alpha=1.0, class_prior=None, fit_prior=True)"
      ]
     },
     "execution_count": 14,
     "metadata": {},
     "output_type": "execute_result"
    }
   ],
   "source": [
    "from sklearn.naive_bayes import MultinomialNB\n",
    "\n",
    "# 22. instantiate a Multinomial Naive Bayes model\n",
    "nb2= MultinomialNB()\n",
    "\n",
    "%time nb2.fit(X_train_dtm2, y_train)\n"
   ]
  },
  {
   "cell_type": "code",
   "execution_count": 15,
   "metadata": {},
   "outputs": [
    {
     "data": {
      "text/plain": [
       "1.0"
      ]
     },
     "execution_count": 15,
     "metadata": {},
     "output_type": "execute_result"
    }
   ],
   "source": [
    "y_pred_class2 = nb2.predict(X_test_dtm2)\n",
    "\n",
    "# calculate accuracy of class predictions\n",
    "from sklearn import metrics\n",
    "metrics.accuracy_score(y_test, y_pred_class2)\n",
    "\n"
   ]
  },
  {
   "cell_type": "code",
   "execution_count": 16,
   "metadata": {},
   "outputs": [
    {
     "data": {
      "text/plain": [
       "array([[248,   0,   0,   0,   0,   0,   0,   0,   0,   0,   0,   0],\n",
       "       [  0, 258,   0,   0,   0,   0,   0,   0,   0,   0,   0,   0],\n",
       "       [  0,   0, 250,   0,   0,   0,   0,   0,   0,   0,   0,   0],\n",
       "       [  0,   0,   0, 248,   0,   0,   0,   0,   0,   0,   0,   0],\n",
       "       [  0,   0,   0,   0, 241,   0,   0,   0,   0,   0,   0,   0],\n",
       "       [  0,   0,   0,   0,   0, 255,   0,   0,   0,   0,   0,   0],\n",
       "       [  0,   0,   0,   0,   0,   0, 241,   0,   0,   0,   0,   0],\n",
       "       [  0,   0,   0,   0,   0,   0,   0, 239,   0,   0,   0,   0],\n",
       "       [  0,   0,   0,   0,   0,   0,   0,   0, 247,   0,   0,   0],\n",
       "       [  0,   0,   0,   0,   0,   0,   0,   0,   0, 259,   0,   0],\n",
       "       [  0,   0,   0,   0,   0,   0,   0,   0,   0,   0, 243,   0],\n",
       "       [  0,   0,   0,   0,   0,   0,   0,   0,   0,   0,   0, 271]])"
      ]
     },
     "execution_count": 16,
     "metadata": {},
     "output_type": "execute_result"
    }
   ],
   "source": [
    "# print the confusion matrix\n",
    "metrics.confusion_matrix(y_test, y_pred_class2)"
   ]
  },
  {
   "cell_type": "code",
   "execution_count": null,
   "metadata": {
    "collapsed": true
   },
   "outputs": [],
   "source": []
  },
  {
   "cell_type": "markdown",
   "metadata": {},
   "source": [
    "##  start from here"
   ]
  },
  {
   "cell_type": "code",
   "execution_count": 17,
   "metadata": {
    "collapsed": true
   },
   "outputs": [],
   "source": [
    "data  = pd.read_csv('(B)TEST_info_SMS.csv', encoding = \"ISO-8859-1\")"
   ]
  },
  {
   "cell_type": "code",
   "execution_count": 18,
   "metadata": {
    "collapsed": true
   },
   "outputs": [],
   "source": [
    "status={0:'Appointment',\n",
    "        1:'Bus',\n",
    "        2:'Cab',\n",
    "        3:'Delivery',\n",
    "        4:'Expiry',\n",
    "        5:'Flight',\n",
    "       6:'Hotel',\n",
    "        7: 'Movie',\n",
    "        8:'Payment', \n",
    "        9:'PickUp', \n",
    "        10:'Reservation',\n",
    "        11:'Train'}"
   ]
  },
  {
   "cell_type": "markdown",
   "metadata": {},
   "source": [
    "### fine tune model"
   ]
  },
  {
   "cell_type": "code",
   "execution_count": 28,
   "metadata": {},
   "outputs": [
    {
     "data": {
      "text/html": [
       "<div>\n",
       "<style>\n",
       "    .dataframe thead tr:only-child th {\n",
       "        text-align: right;\n",
       "    }\n",
       "\n",
       "    .dataframe thead th {\n",
       "        text-align: left;\n",
       "    }\n",
       "\n",
       "    .dataframe tbody tr th {\n",
       "        vertical-align: top;\n",
       "    }\n",
       "</style>\n",
       "<table border=\"1\" class=\"dataframe\">\n",
       "  <thead>\n",
       "    <tr style=\"text-align: right;\">\n",
       "      <th></th>\n",
       "      <th>RecordNo</th>\n",
       "      <th>Message</th>\n",
       "    </tr>\n",
       "  </thead>\n",
       "  <tbody>\n",
       "    <tr>\n",
       "      <th>0</th>\n",
       "      <td>1</td>\n",
       "      <td>Thanks! at booking TFS-AT-l31020038 @ 6 a.m.,M...</td>\n",
       "    </tr>\n",
       "    <tr>\n",
       "      <th>1</th>\n",
       "      <td>2</td>\n",
       "      <td>Repair ref.no for your car is JC17566711 opene...</td>\n",
       "    </tr>\n",
       "    <tr>\n",
       "      <th>2</th>\n",
       "      <td>3</td>\n",
       "      <td>DEAR Jesse, THANK YOU FOR YOUR BOOKING (ORDER ...</td>\n",
       "    </tr>\n",
       "    <tr>\n",
       "      <th>3</th>\n",
       "      <td>4</td>\n",
       "      <td>* KSRTC m-Ticket *  from: Panaji Goa to: Kunda...</td>\n",
       "    </tr>\n",
       "    <tr>\n",
       "      <th>4</th>\n",
       "      <td>5</td>\n",
       "      <td>Bill dated 2012-09-01 for Rs 167 has been gene...</td>\n",
       "    </tr>\n",
       "    <tr>\n",
       "      <th>5</th>\n",
       "      <td>6</td>\n",
       "      <td>* KSRTC m-Ticket *  from: Shivamogga to: SRIKA...</td>\n",
       "    </tr>\n",
       "    <tr>\n",
       "      <th>6</th>\n",
       "      <td>7</td>\n",
       "      <td>PNR:8555772237,TRAIN:41263,DOJ:2013-06-15,SL,A...</td>\n",
       "    </tr>\n",
       "    <tr>\n",
       "      <th>7</th>\n",
       "      <td>8</td>\n",
       "      <td>PNR:6848621637,TRAIN:8818,DOJ:2013-07-17,FC,BB...</td>\n",
       "    </tr>\n",
       "    <tr>\n",
       "      <th>8</th>\n",
       "      <td>9</td>\n",
       "      <td>PNR:4545157652,TRAIN:8762,DOJ:2012-10-04,AC3,B...</td>\n",
       "    </tr>\n",
       "    <tr>\n",
       "      <th>9</th>\n",
       "      <td>10</td>\n",
       "      <td>Hi Customer, Booking ID: WJ8I2YT. Seats: STAND...</td>\n",
       "    </tr>\n",
       "    <tr>\n",
       "      <th>10</th>\n",
       "      <td>11</td>\n",
       "      <td>Dear Guest, Thanks for choosing The Attic. Ord...</td>\n",
       "    </tr>\n",
       "    <tr>\n",
       "      <th>11</th>\n",
       "      <td>12</td>\n",
       "      <td>Maruti Auto Agency : Service of your car KA65Z...</td>\n",
       "    </tr>\n",
       "    <tr>\n",
       "      <th>12</th>\n",
       "      <td>13</td>\n",
       "      <td>* KSRTC m-Ticket *  from: TANJAVOOR to: Kundap...</td>\n",
       "    </tr>\n",
       "    <tr>\n",
       "      <th>13</th>\n",
       "      <td>14</td>\n",
       "      <td>Appointment with Dr Austin in Madurai on 2010-...</td>\n",
       "    </tr>\n",
       "    <tr>\n",
       "      <th>14</th>\n",
       "      <td>15</td>\n",
       "      <td>Bill dated 2014-01-05 for Rs 375 has been gene...</td>\n",
       "    </tr>\n",
       "    <tr>\n",
       "      <th>15</th>\n",
       "      <td>16</td>\n",
       "      <td>[Lappert 's] Hi Lucas, your reservation is con...</td>\n",
       "    </tr>\n",
       "    <tr>\n",
       "      <th>16</th>\n",
       "      <td>17</td>\n",
       "      <td>Hi Customer, Booking ID: WGLC0IP. Seats: GOLD-...</td>\n",
       "    </tr>\n",
       "    <tr>\n",
       "      <th>17</th>\n",
       "      <td>18</td>\n",
       "      <td>Aryan Auto Agency : Service of your car KA61Y6...</td>\n",
       "    </tr>\n",
       "    <tr>\n",
       "      <th>18</th>\n",
       "      <td>19</td>\n",
       "      <td>The PNR for your JET Airways Flt 8H752 for TCR...</td>\n",
       "    </tr>\n",
       "    <tr>\n",
       "      <th>19</th>\n",
       "      <td>20</td>\n",
       "      <td>Repair ref.no for your car is JC43322124 opene...</td>\n",
       "    </tr>\n",
       "    <tr>\n",
       "      <th>20</th>\n",
       "      <td>21</td>\n",
       "      <td>PNR:6783625783,TRAIN:16547,DOJ:2013-07-29,SL,B...</td>\n",
       "    </tr>\n",
       "    <tr>\n",
       "      <th>21</th>\n",
       "      <td>22</td>\n",
       "      <td>Welcome to Pub R.No. 360, 592, 547, 429 Ch.In ...</td>\n",
       "    </tr>\n",
       "    <tr>\n",
       "      <th>22</th>\n",
       "      <td>23</td>\n",
       "      <td>[Robeks] Hi Ian, your reservation is confirmed...</td>\n",
       "    </tr>\n",
       "    <tr>\n",
       "      <th>23</th>\n",
       "      <td>24</td>\n",
       "      <td>* KSRTC m-Ticket *  from: DAVANEGERE to: PONDI...</td>\n",
       "    </tr>\n",
       "    <tr>\n",
       "      <th>24</th>\n",
       "      <td>25</td>\n",
       "      <td>Thank you for choosing Meru for 07 Dec 2015 at...</td>\n",
       "    </tr>\n",
       "    <tr>\n",
       "      <th>25</th>\n",
       "      <td>26</td>\n",
       "      <td>The PNR for your AirAsia Flt 3W466 for DHM-DAE...</td>\n",
       "    </tr>\n",
       "    <tr>\n",
       "      <th>26</th>\n",
       "      <td>27</td>\n",
       "      <td>PNR:1843356382,TRAIN:7275,DOJ:2010-07-19,AC3,B...</td>\n",
       "    </tr>\n",
       "    <tr>\n",
       "      <th>27</th>\n",
       "      <td>28</td>\n",
       "      <td>Dear Guest, Thanks for choosing Griff 's Hambu...</td>\n",
       "    </tr>\n",
       "    <tr>\n",
       "      <th>28</th>\n",
       "      <td>29</td>\n",
       "      <td>* KSRTC m-Ticket *  from: Belagavi to: KOLAR G...</td>\n",
       "    </tr>\n",
       "    <tr>\n",
       "      <th>29</th>\n",
       "      <td>30</td>\n",
       "      <td>The PNR for your Air India Flt 1H256 for HBX-T...</td>\n",
       "    </tr>\n",
       "    <tr>\n",
       "      <th>...</th>\n",
       "      <td>...</td>\n",
       "      <td>...</td>\n",
       "    </tr>\n",
       "    <tr>\n",
       "      <th>2970</th>\n",
       "      <td>2971</td>\n",
       "      <td>Hi Customer, Booking ID: W35Y0VI. Seats: SILVE...</td>\n",
       "    </tr>\n",
       "    <tr>\n",
       "      <th>2971</th>\n",
       "      <td>2972</td>\n",
       "      <td>Welcome to Camden ChildrenÃ¢â¬â¢s Garden R.N...</td>\n",
       "    </tr>\n",
       "    <tr>\n",
       "      <th>2972</th>\n",
       "      <td>2973</td>\n",
       "      <td>Hi Customer, Booking ID: WFWZZVU. Seats: GOLD-...</td>\n",
       "    </tr>\n",
       "    <tr>\n",
       "      <th>2973</th>\n",
       "      <td>2974</td>\n",
       "      <td>Thank you for choosing Meru for 2011-07-22 at ...</td>\n",
       "    </tr>\n",
       "    <tr>\n",
       "      <th>2974</th>\n",
       "      <td>2975</td>\n",
       "      <td>Appointment with Dr Angel in KASARGOD on 2010-...</td>\n",
       "    </tr>\n",
       "    <tr>\n",
       "      <th>2975</th>\n",
       "      <td>2976</td>\n",
       "      <td>PNR:6314516847,TRAIN:5243,DOJ:2014-11-21,SL,AG...</td>\n",
       "    </tr>\n",
       "    <tr>\n",
       "      <th>2976</th>\n",
       "      <td>2977</td>\n",
       "      <td>Bill dated 06-Jan-16 for your airtel fixedline...</td>\n",
       "    </tr>\n",
       "    <tr>\n",
       "      <th>2977</th>\n",
       "      <td>2978</td>\n",
       "      <td>Appointment with Dr Camden in MERCARA MADIKERI...</td>\n",
       "    </tr>\n",
       "    <tr>\n",
       "      <th>2978</th>\n",
       "      <td>2979</td>\n",
       "      <td>PNR:3653853655,TRAIN:2446,DOJ:2012-10-28,SL,BP...</td>\n",
       "    </tr>\n",
       "    <tr>\n",
       "      <th>2979</th>\n",
       "      <td>2980</td>\n",
       "      <td>Bill dated 2015-02-07 for Rs 525 has been gene...</td>\n",
       "    </tr>\n",
       "    <tr>\n",
       "      <th>2980</th>\n",
       "      <td>2981</td>\n",
       "      <td>Bill dated 2009-12-18 for Rs 713 has been gene...</td>\n",
       "    </tr>\n",
       "    <tr>\n",
       "      <th>2981</th>\n",
       "      <td>2982</td>\n",
       "      <td>DEAR Devin, THANK YOU FOR YOUR BOOKING (ORDER ...</td>\n",
       "    </tr>\n",
       "    <tr>\n",
       "      <th>2982</th>\n",
       "      <td>2983</td>\n",
       "      <td>airtel update: Your bill dated 06-JUN-16 of Rs...</td>\n",
       "    </tr>\n",
       "    <tr>\n",
       "      <th>2983</th>\n",
       "      <td>2984</td>\n",
       "      <td>* KSRTC m-Ticket *  from: Hyderabad to: Puduch...</td>\n",
       "    </tr>\n",
       "    <tr>\n",
       "      <th>2984</th>\n",
       "      <td>2985</td>\n",
       "      <td>KSRTC Bus : PNR :J09674199,Journey Date :10-Ap...</td>\n",
       "    </tr>\n",
       "    <tr>\n",
       "      <th>2985</th>\n",
       "      <td>2986</td>\n",
       "      <td>PNR:7617221313,TRAIN:6782,DOJ:2010-09-29,SL,AT...</td>\n",
       "    </tr>\n",
       "    <tr>\n",
       "      <th>2986</th>\n",
       "      <td>2987</td>\n",
       "      <td>Repair ref.no for your car is JC15628581 opene...</td>\n",
       "    </tr>\n",
       "    <tr>\n",
       "      <th>2987</th>\n",
       "      <td>2988</td>\n",
       "      <td>Welcome to Oran Es Senia Airport R.No. 250, 10...</td>\n",
       "    </tr>\n",
       "    <tr>\n",
       "      <th>2988</th>\n",
       "      <td>2989</td>\n",
       "      <td>Thank you for choosing Ola for 2012-12-13 at 5...</td>\n",
       "    </tr>\n",
       "    <tr>\n",
       "      <th>2989</th>\n",
       "      <td>2990</td>\n",
       "      <td>* KSRTC m-Ticket *  from: PALAKKAD to: PAYYANU...</td>\n",
       "    </tr>\n",
       "    <tr>\n",
       "      <th>2990</th>\n",
       "      <td>2991</td>\n",
       "      <td>- Sam Tourists - Your journey details: BusNo: ...</td>\n",
       "    </tr>\n",
       "    <tr>\n",
       "      <th>2991</th>\n",
       "      <td>2992</td>\n",
       "      <td>PNR:4434533564,TRAIN:87363,DOJ:2010-04-07,FC,A...</td>\n",
       "    </tr>\n",
       "    <tr>\n",
       "      <th>2992</th>\n",
       "      <td>2993</td>\n",
       "      <td>Bill received from Bangalore Electricit. Bill ...</td>\n",
       "    </tr>\n",
       "    <tr>\n",
       "      <th>2993</th>\n",
       "      <td>2994</td>\n",
       "      <td>[fritto misto] Hi Riley, your reservation is c...</td>\n",
       "    </tr>\n",
       "    <tr>\n",
       "      <th>2994</th>\n",
       "      <td>2995</td>\n",
       "      <td>trevor yadhav sar your Lic policy number.01760...</td>\n",
       "    </tr>\n",
       "    <tr>\n",
       "      <th>2995</th>\n",
       "      <td>2996</td>\n",
       "      <td>* KSRTC m-Ticket *  from: PONDICHERRY to: KOTT...</td>\n",
       "    </tr>\n",
       "    <tr>\n",
       "      <th>2996</th>\n",
       "      <td>2997</td>\n",
       "      <td>The PNR for your JET Airways Flt 4T276 for BEP...</td>\n",
       "    </tr>\n",
       "    <tr>\n",
       "      <th>2997</th>\n",
       "      <td>2998</td>\n",
       "      <td>Welcome to BT HOLD R.No. 225, 467, 164 Ch.In 2...</td>\n",
       "    </tr>\n",
       "    <tr>\n",
       "      <th>2998</th>\n",
       "      <td>2999</td>\n",
       "      <td>PNR:3866265157,TRAIN:8442,DOJ:2012-10-13,FC,BD...</td>\n",
       "    </tr>\n",
       "    <tr>\n",
       "      <th>2999</th>\n",
       "      <td>3000</td>\n",
       "      <td>Bill dated 2013-11-01 for Rs 710 has been gene...</td>\n",
       "    </tr>\n",
       "  </tbody>\n",
       "</table>\n",
       "<p>3000 rows × 2 columns</p>\n",
       "</div>"
      ],
      "text/plain": [
       "      RecordNo                                            Message\n",
       "0            1  Thanks! at booking TFS-AT-l31020038 @ 6 a.m.,M...\n",
       "1            2  Repair ref.no for your car is JC17566711 opene...\n",
       "2            3  DEAR Jesse, THANK YOU FOR YOUR BOOKING (ORDER ...\n",
       "3            4  * KSRTC m-Ticket *  from: Panaji Goa to: Kunda...\n",
       "4            5  Bill dated 2012-09-01 for Rs 167 has been gene...\n",
       "5            6  * KSRTC m-Ticket *  from: Shivamogga to: SRIKA...\n",
       "6            7  PNR:8555772237,TRAIN:41263,DOJ:2013-06-15,SL,A...\n",
       "7            8  PNR:6848621637,TRAIN:8818,DOJ:2013-07-17,FC,BB...\n",
       "8            9  PNR:4545157652,TRAIN:8762,DOJ:2012-10-04,AC3,B...\n",
       "9           10  Hi Customer, Booking ID: WJ8I2YT. Seats: STAND...\n",
       "10          11  Dear Guest, Thanks for choosing The Attic. Ord...\n",
       "11          12  Maruti Auto Agency : Service of your car KA65Z...\n",
       "12          13  * KSRTC m-Ticket *  from: TANJAVOOR to: Kundap...\n",
       "13          14  Appointment with Dr Austin in Madurai on 2010-...\n",
       "14          15  Bill dated 2014-01-05 for Rs 375 has been gene...\n",
       "15          16  [Lappert 's] Hi Lucas, your reservation is con...\n",
       "16          17  Hi Customer, Booking ID: WGLC0IP. Seats: GOLD-...\n",
       "17          18  Aryan Auto Agency : Service of your car KA61Y6...\n",
       "18          19  The PNR for your JET Airways Flt 8H752 for TCR...\n",
       "19          20  Repair ref.no for your car is JC43322124 opene...\n",
       "20          21  PNR:6783625783,TRAIN:16547,DOJ:2013-07-29,SL,B...\n",
       "21          22  Welcome to Pub R.No. 360, 592, 547, 429 Ch.In ...\n",
       "22          23  [Robeks] Hi Ian, your reservation is confirmed...\n",
       "23          24  * KSRTC m-Ticket *  from: DAVANEGERE to: PONDI...\n",
       "24          25  Thank you for choosing Meru for 07 Dec 2015 at...\n",
       "25          26  The PNR for your AirAsia Flt 3W466 for DHM-DAE...\n",
       "26          27  PNR:1843356382,TRAIN:7275,DOJ:2010-07-19,AC3,B...\n",
       "27          28  Dear Guest, Thanks for choosing Griff 's Hambu...\n",
       "28          29  * KSRTC m-Ticket *  from: Belagavi to: KOLAR G...\n",
       "29          30  The PNR for your Air India Flt 1H256 for HBX-T...\n",
       "...        ...                                                ...\n",
       "2970      2971  Hi Customer, Booking ID: W35Y0VI. Seats: SILVE...\n",
       "2971      2972  Welcome to Camden ChildrenÃ¢â¬â¢s Garden R.N...\n",
       "2972      2973  Hi Customer, Booking ID: WFWZZVU. Seats: GOLD-...\n",
       "2973      2974  Thank you for choosing Meru for 2011-07-22 at ...\n",
       "2974      2975  Appointment with Dr Angel in KASARGOD on 2010-...\n",
       "2975      2976  PNR:6314516847,TRAIN:5243,DOJ:2014-11-21,SL,AG...\n",
       "2976      2977  Bill dated 06-Jan-16 for your airtel fixedline...\n",
       "2977      2978  Appointment with Dr Camden in MERCARA MADIKERI...\n",
       "2978      2979  PNR:3653853655,TRAIN:2446,DOJ:2012-10-28,SL,BP...\n",
       "2979      2980  Bill dated 2015-02-07 for Rs 525 has been gene...\n",
       "2980      2981  Bill dated 2009-12-18 for Rs 713 has been gene...\n",
       "2981      2982  DEAR Devin, THANK YOU FOR YOUR BOOKING (ORDER ...\n",
       "2982      2983  airtel update: Your bill dated 06-JUN-16 of Rs...\n",
       "2983      2984  * KSRTC m-Ticket *  from: Hyderabad to: Puduch...\n",
       "2984      2985  KSRTC Bus : PNR :J09674199,Journey Date :10-Ap...\n",
       "2985      2986  PNR:7617221313,TRAIN:6782,DOJ:2010-09-29,SL,AT...\n",
       "2986      2987  Repair ref.no for your car is JC15628581 opene...\n",
       "2987      2988  Welcome to Oran Es Senia Airport R.No. 250, 10...\n",
       "2988      2989  Thank you for choosing Ola for 2012-12-13 at 5...\n",
       "2989      2990  * KSRTC m-Ticket *  from: PALAKKAD to: PAYYANU...\n",
       "2990      2991  - Sam Tourists - Your journey details: BusNo: ...\n",
       "2991      2992  PNR:4434533564,TRAIN:87363,DOJ:2010-04-07,FC,A...\n",
       "2992      2993  Bill received from Bangalore Electricit. Bill ...\n",
       "2993      2994  [fritto misto] Hi Riley, your reservation is c...\n",
       "2994      2995  trevor yadhav sar your Lic policy number.01760...\n",
       "2995      2996  * KSRTC m-Ticket *  from: PONDICHERRY to: KOTT...\n",
       "2996      2997  The PNR for your JET Airways Flt 4T276 for BEP...\n",
       "2997      2998  Welcome to BT HOLD R.No. 225, 467, 164 Ch.In 2...\n",
       "2998      2999  PNR:3866265157,TRAIN:8442,DOJ:2012-10-13,FC,BD...\n",
       "2999      3000  Bill dated 2013-11-01 for Rs 710 has been gene...\n",
       "\n",
       "[3000 rows x 2 columns]"
      ]
     },
     "execution_count": 28,
     "metadata": {},
     "output_type": "execute_result"
    }
   ],
   "source": [
    "data"
   ]
  },
  {
   "cell_type": "code",
   "execution_count": 19,
   "metadata": {
    "collapsed": true
   },
   "outputs": [],
   "source": [
    "testing_msgs = data[\"Message\"].values\n",
    "labels2=[]\n",
    "records2=[]\n",
    "for i,item in enumerate(testing_msgs):\n",
    "    records2.append(i+1)\n",
    "    labels2.append(status[nb2.predict(fine_vect.transform([testing_msgs[i]]))[0]])\n"
   ]
  },
  {
   "cell_type": "code",
   "execution_count": 20,
   "metadata": {
    "collapsed": true
   },
   "outputs": [],
   "source": [
    "d2={'RecordNo':records2,'Label':labels2}"
   ]
  },
  {
   "cell_type": "code",
   "execution_count": 21,
   "metadata": {},
   "outputs": [
    {
     "data": {
      "text/plain": [
       "(None,)"
      ]
     },
     "execution_count": 21,
     "metadata": {},
     "output_type": "execute_result"
    }
   ],
   "source": [
    "info2 = pd.DataFrame(data=d2)\n",
    "\n",
    "info2=info2.set_index('RecordNo' )\n",
    "info2.to_csv('new_result.csv'),#index=False)\n"
   ]
  },
  {
   "cell_type": "markdown",
   "metadata": {},
   "source": [
    "### normal model"
   ]
  },
  {
   "cell_type": "code",
   "execution_count": 22,
   "metadata": {
    "collapsed": true
   },
   "outputs": [],
   "source": [
    "testing_msgs = data[\"Message\"].values\n",
    "labels=[]\n",
    "records=[]\n",
    "for i,item in enumerate(testing_msgs):\n",
    "    records.append(i+1)\n",
    "    labels.append(status[nb.predict(vect.transform([testing_msgs[i]]))[0]])\n"
   ]
  },
  {
   "cell_type": "code",
   "execution_count": 23,
   "metadata": {
    "collapsed": true
   },
   "outputs": [],
   "source": [
    "d={'RecordNo':records,'Label':labels}"
   ]
  },
  {
   "cell_type": "code",
   "execution_count": 24,
   "metadata": {},
   "outputs": [
    {
     "data": {
      "text/plain": [
       "(None,)"
      ]
     },
     "execution_count": 24,
     "metadata": {},
     "output_type": "execute_result"
    }
   ],
   "source": [
    "info = pd.DataFrame(data=d)\n",
    "\n",
    "info=info.set_index('RecordNo' )\n",
    "info.to_csv('new_result_normal.csv'),#index=False)\n"
   ]
  },
  {
   "cell_type": "code",
   "execution_count": 40,
   "metadata": {},
   "outputs": [
    {
     "data": {
      "text/plain": [
       "'Delivery'"
      ]
     },
     "execution_count": 40,
     "metadata": {},
     "output_type": "execute_result"
    }
   ],
   "source": [
    "status[nb.predict(vect.transform([m]))[0]]"
   ]
  },
  {
   "cell_type": "code",
   "execution_count": null,
   "metadata": {
    "collapsed": true
   },
   "outputs": [],
   "source": []
  },
  {
   "cell_type": "markdown",
   "metadata": {},
   "source": [
    "## example"
   ]
  },
  {
   "cell_type": "code",
   "execution_count": 44,
   "metadata": {},
   "outputs": [
    {
     "data": {
      "text/plain": [
       "'Thanks! at booking TFS-AT-l31020038 @ 6 a.m.,May 8, 2016 is confirmed.'"
      ]
     },
     "execution_count": 44,
     "metadata": {},
     "output_type": "execute_result"
    }
   ],
   "source": [
    "testing_msgs[0]"
   ]
  },
  {
   "cell_type": "code",
   "execution_count": 45,
   "metadata": {},
   "outputs": [
    {
     "data": {
      "text/plain": [
       "'Appointment'"
      ]
     },
     "execution_count": 45,
     "metadata": {},
     "output_type": "execute_result"
    }
   ],
   "source": [
    "status[nb.predict(vect.transform([testing_msgs[0]]))[0]]"
   ]
  },
  {
   "cell_type": "code",
   "execution_count": null,
   "metadata": {
    "collapsed": true
   },
   "outputs": [],
   "source": []
  }
 ],
 "metadata": {
  "kernelspec": {
   "display_name": "Python 3",
   "language": "python",
   "name": "python3"
  },
  "language_info": {
   "codemirror_mode": {
    "name": "ipython",
    "version": 3
   },
   "file_extension": ".py",
   "mimetype": "text/x-python",
   "name": "python",
   "nbconvert_exporter": "python",
   "pygments_lexer": "ipython3",
   "version": "3.4.3"
  }
 },
 "nbformat": 4,
 "nbformat_minor": 2
}
